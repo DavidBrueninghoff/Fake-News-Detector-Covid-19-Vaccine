{
  "cells": [
    {
      "cell_type": "markdown",
      "metadata": {
        "id": "view-in-github",
        "colab_type": "text"
      },
      "source": [
        "<a href=\"https://colab.research.google.com/github/yannick5000/Fake-News-Detector-Covid-19-vaccine/blob/main/Project_FakeNews(Machine-Learning).ipynb\" target=\"_parent\"><img src=\"https://colab.research.google.com/assets/colab-badge.svg\" alt=\"Open In Colab\"/></a>"
      ]
    },
    {
      "cell_type": "markdown",
      "metadata": {
        "id": "c774U_Tt0DFg"
      },
      "source": [
        "**Health-related fakenews detector – Project Work - Machine Learning Group**\n",
        "\n"
      ]
    },
    {
      "cell_type": "markdown",
      "source": [
        "Getting started"
      ],
      "metadata": {
        "id": "ITZhiAiC3oI-"
      }
    },
    {
      "cell_type": "code",
      "execution_count": 1,
      "metadata": {
        "id": "Tb9Ow9ajxfNl",
        "colab": {
          "base_uri": "https://localhost:8080/"
        },
        "outputId": "dbf0aef7-a51a-4e08-bca8-0c0056f6fe92"
      },
      "outputs": [
        {
          "output_type": "stream",
          "name": "stdout",
          "text": [
            "Mounted at /content/drive\n"
          ]
        }
      ],
      "source": [
        "from google.colab import drive\n",
        "drive.mount('/content/drive', force_remount=True)"
      ]
    },
    {
      "cell_type": "code",
      "execution_count": 2,
      "metadata": {
        "id": "_SDsILYozBOr",
        "colab": {
          "base_uri": "https://localhost:8080/"
        },
        "outputId": "44d4e1fc-c02f-4017-edc9-5c94c77387be"
      },
      "outputs": [
        {
          "output_type": "stream",
          "name": "stdout",
          "text": [
            "[Errno 2] No such file or directory: 'drive/MyDrive/ColabNotebooks/data/'\n",
            "/content\n"
          ]
        }
      ],
      "source": [
        "%cd drive/MyDrive/ColabNotebooks/data/"
      ]
    },
    {
      "cell_type": "code",
      "execution_count": 5,
      "metadata": {
        "id": "opbuqa2KsYhz"
      },
      "outputs": [],
      "source": [
        "#Loading in data as dataframe\n",
        "import pandas as pd\n",
        "import string\n",
        "import numpy as np\n",
        "\n",
        "df = pd.read_csv(\"statements3.csv\",index_col=\"Index\")"
      ]
    },
    {
      "cell_type": "code",
      "source": [
        "#Removing punctuation from data frame\n",
        "list_punctuation = ['!', '\"', '#', '$', '%', '&', \"'\", '(', ')', '*', '+', ',', '-', '–', '.', '/', ':', ';', '<', '=', '>', '?', '@', '[', '\\\\', ']', '^', '_', '`', '{', '|', '}', '~', '®', '„', '“', '≥', '≤', '€']\n",
        "def remove_punctuation_df(input):\n",
        "  input = input.replace(\"[^\\w\\s]\",\"\")\n",
        "  input = [\"\".join(letter for letter in word if letter not in string.punctuation)for word in input]\n",
        "  input = [word.translate(string.punctuation) for word in input]\n",
        "  input = [\"\".join(letter for letter in word if letter not in list_punctuation)for word in input]\n",
        "  return input"
      ],
      "metadata": {
        "id": "ADqK2KsU1HlO"
      },
      "execution_count": 6,
      "outputs": []
    },
    {
      "cell_type": "code",
      "source": [
        "df[\"Statement\"] = df[[\"Statement\"]].apply(remove_punctuation_df)"
      ],
      "metadata": {
        "id": "QGQ2ajjo0vfK"
      },
      "execution_count": 7,
      "outputs": []
    },
    {
      "cell_type": "code",
      "source": [
        "df.head()"
      ],
      "metadata": {
        "id": "sDLj2vuy0yMn",
        "colab": {
          "base_uri": "https://localhost:8080/",
          "height": 381
        },
        "outputId": "3dd8e502-ca03-490b-91f2-5517a90d17fe"
      },
      "execution_count": 9,
      "outputs": [
        {
          "output_type": "execute_result",
          "data": {
            "text/plain": [
              "                                               Statement            Source   \\\n",
              "Index                                                                         \n",
              "659    Der Impfstoff kann eine Covid19Erkrankung vers...               BR24   \n",
              "438    Vorläufige Erkenntnisse deuten darauf hin dass...                RKI   \n",
              "842    Bewohner eines Pfelgeheims der Diakonie in Sac...  Facts For Friends   \n",
              "498    Kinder mit Vorerkrankungen sollen weiterhin ei...                RKI   \n",
              "490    Darüber hinaus sind Abstand halten Maske trage...                RKI   \n",
              "\n",
              "                                            Source (URL)       Date + time  \\\n",
              "Index                                                                        \n",
              "659    https://www.br.de/nachrichten/wissen/fake-news...  2021-07-19 16-21   \n",
              "438    https://www.rki.de/SharedDocs/FAQ/COVID-Impfen...        2022-05-24   \n",
              "842    https://www.factsforfriends.de/fact/5ff85b479a...        2021-01-08   \n",
              "498    https://www.rki.de/SharedDocs/FAQ/COVID-Impfen...        2022-06-11   \n",
              "490    https://www.rki.de/SharedDocs/FAQ/COVID-Impfen...        2022-06-03   \n",
              "\n",
              "       True/False                               Evidence (why true?)  \\\n",
              "Index                                                                  \n",
              "659         False  Lack of understanding complex medical/biologic...   \n",
              "438          True                                                NaN   \n",
              "842         False                                 Falsche Behauptung   \n",
              "498          True                                                NaN   \n",
              "490          True                                                NaN   \n",
              "\n",
              "                          Category  \n",
              "Index                               \n",
              "659    Consequences of vaccination  \n",
              "438                            NaN  \n",
              "842            Vaccination mandate  \n",
              "498                            NaN  \n",
              "490                            NaN  "
            ],
            "text/html": [
              "\n",
              "  <div id=\"df-16e408d7-9db5-4d36-a122-cdb022d8ce6a\">\n",
              "    <div class=\"colab-df-container\">\n",
              "      <div>\n",
              "<style scoped>\n",
              "    .dataframe tbody tr th:only-of-type {\n",
              "        vertical-align: middle;\n",
              "    }\n",
              "\n",
              "    .dataframe tbody tr th {\n",
              "        vertical-align: top;\n",
              "    }\n",
              "\n",
              "    .dataframe thead th {\n",
              "        text-align: right;\n",
              "    }\n",
              "</style>\n",
              "<table border=\"1\" class=\"dataframe\">\n",
              "  <thead>\n",
              "    <tr style=\"text-align: right;\">\n",
              "      <th></th>\n",
              "      <th>Statement</th>\n",
              "      <th>Source</th>\n",
              "      <th>Source (URL)</th>\n",
              "      <th>Date + time</th>\n",
              "      <th>True/False</th>\n",
              "      <th>Evidence (why true?)</th>\n",
              "      <th>Category</th>\n",
              "    </tr>\n",
              "    <tr>\n",
              "      <th>Index</th>\n",
              "      <th></th>\n",
              "      <th></th>\n",
              "      <th></th>\n",
              "      <th></th>\n",
              "      <th></th>\n",
              "      <th></th>\n",
              "      <th></th>\n",
              "    </tr>\n",
              "  </thead>\n",
              "  <tbody>\n",
              "    <tr>\n",
              "      <th>659</th>\n",
              "      <td>Der Impfstoff kann eine Covid19Erkrankung vers...</td>\n",
              "      <td>BR24</td>\n",
              "      <td>https://www.br.de/nachrichten/wissen/fake-news...</td>\n",
              "      <td>2021-07-19 16-21</td>\n",
              "      <td>False</td>\n",
              "      <td>Lack of understanding complex medical/biologic...</td>\n",
              "      <td>Consequences of vaccination</td>\n",
              "    </tr>\n",
              "    <tr>\n",
              "      <th>438</th>\n",
              "      <td>Vorläufige Erkenntnisse deuten darauf hin dass...</td>\n",
              "      <td>RKI</td>\n",
              "      <td>https://www.rki.de/SharedDocs/FAQ/COVID-Impfen...</td>\n",
              "      <td>2022-05-24</td>\n",
              "      <td>True</td>\n",
              "      <td>NaN</td>\n",
              "      <td>NaN</td>\n",
              "    </tr>\n",
              "    <tr>\n",
              "      <th>842</th>\n",
              "      <td>Bewohner eines Pfelgeheims der Diakonie in Sac...</td>\n",
              "      <td>Facts For Friends</td>\n",
              "      <td>https://www.factsforfriends.de/fact/5ff85b479a...</td>\n",
              "      <td>2021-01-08</td>\n",
              "      <td>False</td>\n",
              "      <td>Falsche Behauptung</td>\n",
              "      <td>Vaccination mandate</td>\n",
              "    </tr>\n",
              "    <tr>\n",
              "      <th>498</th>\n",
              "      <td>Kinder mit Vorerkrankungen sollen weiterhin ei...</td>\n",
              "      <td>RKI</td>\n",
              "      <td>https://www.rki.de/SharedDocs/FAQ/COVID-Impfen...</td>\n",
              "      <td>2022-06-11</td>\n",
              "      <td>True</td>\n",
              "      <td>NaN</td>\n",
              "      <td>NaN</td>\n",
              "    </tr>\n",
              "    <tr>\n",
              "      <th>490</th>\n",
              "      <td>Darüber hinaus sind Abstand halten Maske trage...</td>\n",
              "      <td>RKI</td>\n",
              "      <td>https://www.rki.de/SharedDocs/FAQ/COVID-Impfen...</td>\n",
              "      <td>2022-06-03</td>\n",
              "      <td>True</td>\n",
              "      <td>NaN</td>\n",
              "      <td>NaN</td>\n",
              "    </tr>\n",
              "  </tbody>\n",
              "</table>\n",
              "</div>\n",
              "      <button class=\"colab-df-convert\" onclick=\"convertToInteractive('df-16e408d7-9db5-4d36-a122-cdb022d8ce6a')\"\n",
              "              title=\"Convert this dataframe to an interactive table.\"\n",
              "              style=\"display:none;\">\n",
              "        \n",
              "  <svg xmlns=\"http://www.w3.org/2000/svg\" height=\"24px\"viewBox=\"0 0 24 24\"\n",
              "       width=\"24px\">\n",
              "    <path d=\"M0 0h24v24H0V0z\" fill=\"none\"/>\n",
              "    <path d=\"M18.56 5.44l.94 2.06.94-2.06 2.06-.94-2.06-.94-.94-2.06-.94 2.06-2.06.94zm-11 1L8.5 8.5l.94-2.06 2.06-.94-2.06-.94L8.5 2.5l-.94 2.06-2.06.94zm10 10l.94 2.06.94-2.06 2.06-.94-2.06-.94-.94-2.06-.94 2.06-2.06.94z\"/><path d=\"M17.41 7.96l-1.37-1.37c-.4-.4-.92-.59-1.43-.59-.52 0-1.04.2-1.43.59L10.3 9.45l-7.72 7.72c-.78.78-.78 2.05 0 2.83L4 21.41c.39.39.9.59 1.41.59.51 0 1.02-.2 1.41-.59l7.78-7.78 2.81-2.81c.8-.78.8-2.07 0-2.86zM5.41 20L4 18.59l7.72-7.72 1.47 1.35L5.41 20z\"/>\n",
              "  </svg>\n",
              "      </button>\n",
              "      \n",
              "  <style>\n",
              "    .colab-df-container {\n",
              "      display:flex;\n",
              "      flex-wrap:wrap;\n",
              "      gap: 12px;\n",
              "    }\n",
              "\n",
              "    .colab-df-convert {\n",
              "      background-color: #E8F0FE;\n",
              "      border: none;\n",
              "      border-radius: 50%;\n",
              "      cursor: pointer;\n",
              "      display: none;\n",
              "      fill: #1967D2;\n",
              "      height: 32px;\n",
              "      padding: 0 0 0 0;\n",
              "      width: 32px;\n",
              "    }\n",
              "\n",
              "    .colab-df-convert:hover {\n",
              "      background-color: #E2EBFA;\n",
              "      box-shadow: 0px 1px 2px rgba(60, 64, 67, 0.3), 0px 1px 3px 1px rgba(60, 64, 67, 0.15);\n",
              "      fill: #174EA6;\n",
              "    }\n",
              "\n",
              "    [theme=dark] .colab-df-convert {\n",
              "      background-color: #3B4455;\n",
              "      fill: #D2E3FC;\n",
              "    }\n",
              "\n",
              "    [theme=dark] .colab-df-convert:hover {\n",
              "      background-color: #434B5C;\n",
              "      box-shadow: 0px 1px 3px 1px rgba(0, 0, 0, 0.15);\n",
              "      filter: drop-shadow(0px 1px 2px rgba(0, 0, 0, 0.3));\n",
              "      fill: #FFFFFF;\n",
              "    }\n",
              "  </style>\n",
              "\n",
              "      <script>\n",
              "        const buttonEl =\n",
              "          document.querySelector('#df-16e408d7-9db5-4d36-a122-cdb022d8ce6a button.colab-df-convert');\n",
              "        buttonEl.style.display =\n",
              "          google.colab.kernel.accessAllowed ? 'block' : 'none';\n",
              "\n",
              "        async function convertToInteractive(key) {\n",
              "          const element = document.querySelector('#df-16e408d7-9db5-4d36-a122-cdb022d8ce6a');\n",
              "          const dataTable =\n",
              "            await google.colab.kernel.invokeFunction('convertToInteractive',\n",
              "                                                     [key], {});\n",
              "          if (!dataTable) return;\n",
              "\n",
              "          const docLinkHtml = 'Like what you see? Visit the ' +\n",
              "            '<a target=\"_blank\" href=https://colab.research.google.com/notebooks/data_table.ipynb>data table notebook</a>'\n",
              "            + ' to learn more about interactive tables.';\n",
              "          element.innerHTML = '';\n",
              "          dataTable['output_type'] = 'display_data';\n",
              "          await google.colab.output.renderOutput(dataTable, element);\n",
              "          const docLink = document.createElement('div');\n",
              "          docLink.innerHTML = docLinkHtml;\n",
              "          element.appendChild(docLink);\n",
              "        }\n",
              "      </script>\n",
              "    </div>\n",
              "  </div>\n",
              "  "
            ]
          },
          "metadata": {},
          "execution_count": 9
        }
      ]
    },
    {
      "cell_type": "code",
      "source": [
        "#Removing punctuation from user's sentence\n",
        "other_punctuation = '–®„“≥≤€'\n",
        "our_punctuation = string.punctuation + other_punctuation\n",
        "def remove_punctuation_user(input):\n",
        "  for character in our_punctuation:\n",
        "    input = input.replace(character, '')\n",
        "  return input"
      ],
      "metadata": {
        "id": "cVrvotXE0_vP"
      },
      "execution_count": 10,
      "outputs": []
    },
    {
      "cell_type": "code",
      "source": [
        "example = \"Der COVID-19-Impfstoff Spikevax® von Moderna ist jetzt in Europa für die Anwendung bei Kindern ab 6 Jahren zugelassen worden.\"\n",
        "example = remove_punctuation_user(example)\n",
        "print(example)"
      ],
      "metadata": {
        "id": "WnqF57eTEjY0",
        "colab": {
          "base_uri": "https://localhost:8080/"
        },
        "outputId": "957d62ad-2cf4-42d0-b0ab-ce57ce3daf53"
      },
      "execution_count": 11,
      "outputs": [
        {
          "output_type": "stream",
          "name": "stdout",
          "text": [
            "Der COVID19Impfstoff Spikevax von Moderna ist jetzt in Europa für die Anwendung bei Kindern ab 6 Jahren zugelassen worden\n"
          ]
        }
      ]
    },
    {
      "cell_type": "code",
      "execution_count": 12,
      "metadata": {
        "id": "MGLSn6TwXoN1"
      },
      "outputs": [],
      "source": [
        "#Setting target variable\n",
        "df_drop = pd.get_dummies(df.iloc[:,0])\n",
        "frames = [df_drop,df[\"True/False\"]]\n",
        "df_final = pd.concat(frames, axis=1)       \n",
        "df_final \n",
        "df_final.tail()  \n",
        "df_target = df[\"True/False\"].eq(1).groupby(df[\"Statement\"]).mean().reset_index()"
      ]
    },
    {
      "cell_type": "code",
      "source": [
        "df_target"
      ],
      "metadata": {
        "id": "LKNWHMU72DuT",
        "colab": {
          "base_uri": "https://localhost:8080/",
          "height": 419
        },
        "outputId": "eadf82fa-90d3-4e11-c786-89c51b21f0f3"
      },
      "execution_count": 13,
      "outputs": [
        {
          "output_type": "execute_result",
          "data": {
            "text/plain": [
              "                                             Statement  True/False\n",
              "0     An COVID würden fast nur diejenigen Menschen ...         0.0\n",
              "1             Azithromycin kann das CovidVirus abtöten         0.0\n",
              "2     Bleichmittel zu trinken um das Virus im Körpe...         0.0\n",
              "3               Chloroquin kann das CovidVirus abtöten         0.0\n",
              "4     Das Virus wurde künstlich hergestellt und die...         0.0\n",
              "..                                                 ...         ...\n",
              "986       mRNAImpfstoffe können unser Erbgut verändern         0.0\n",
              "987  mRNAImpfstoffe verändern die DNA im Körper der...         0.0\n",
              "988  okalreaktionen Schmerzen an der Einstichstelle...         1.0\n",
              "989  Ähnlich wie bei Erwachsenen ist der Schutz vor...         1.0\n",
              "990  Österreich war das erste Land in der Europäisc...         1.0\n",
              "\n",
              "[991 rows x 2 columns]"
            ],
            "text/html": [
              "\n",
              "  <div id=\"df-e333d18a-fa72-4829-aeb1-91c3602ab2fe\">\n",
              "    <div class=\"colab-df-container\">\n",
              "      <div>\n",
              "<style scoped>\n",
              "    .dataframe tbody tr th:only-of-type {\n",
              "        vertical-align: middle;\n",
              "    }\n",
              "\n",
              "    .dataframe tbody tr th {\n",
              "        vertical-align: top;\n",
              "    }\n",
              "\n",
              "    .dataframe thead th {\n",
              "        text-align: right;\n",
              "    }\n",
              "</style>\n",
              "<table border=\"1\" class=\"dataframe\">\n",
              "  <thead>\n",
              "    <tr style=\"text-align: right;\">\n",
              "      <th></th>\n",
              "      <th>Statement</th>\n",
              "      <th>True/False</th>\n",
              "    </tr>\n",
              "  </thead>\n",
              "  <tbody>\n",
              "    <tr>\n",
              "      <th>0</th>\n",
              "      <td>An COVID würden fast nur diejenigen Menschen ...</td>\n",
              "      <td>0.0</td>\n",
              "    </tr>\n",
              "    <tr>\n",
              "      <th>1</th>\n",
              "      <td>Azithromycin kann das CovidVirus abtöten</td>\n",
              "      <td>0.0</td>\n",
              "    </tr>\n",
              "    <tr>\n",
              "      <th>2</th>\n",
              "      <td>Bleichmittel zu trinken um das Virus im Körpe...</td>\n",
              "      <td>0.0</td>\n",
              "    </tr>\n",
              "    <tr>\n",
              "      <th>3</th>\n",
              "      <td>Chloroquin kann das CovidVirus abtöten</td>\n",
              "      <td>0.0</td>\n",
              "    </tr>\n",
              "    <tr>\n",
              "      <th>4</th>\n",
              "      <td>Das Virus wurde künstlich hergestellt und die...</td>\n",
              "      <td>0.0</td>\n",
              "    </tr>\n",
              "    <tr>\n",
              "      <th>...</th>\n",
              "      <td>...</td>\n",
              "      <td>...</td>\n",
              "    </tr>\n",
              "    <tr>\n",
              "      <th>986</th>\n",
              "      <td>mRNAImpfstoffe können unser Erbgut verändern</td>\n",
              "      <td>0.0</td>\n",
              "    </tr>\n",
              "    <tr>\n",
              "      <th>987</th>\n",
              "      <td>mRNAImpfstoffe verändern die DNA im Körper der...</td>\n",
              "      <td>0.0</td>\n",
              "    </tr>\n",
              "    <tr>\n",
              "      <th>988</th>\n",
              "      <td>okalreaktionen Schmerzen an der Einstichstelle...</td>\n",
              "      <td>1.0</td>\n",
              "    </tr>\n",
              "    <tr>\n",
              "      <th>989</th>\n",
              "      <td>Ähnlich wie bei Erwachsenen ist der Schutz vor...</td>\n",
              "      <td>1.0</td>\n",
              "    </tr>\n",
              "    <tr>\n",
              "      <th>990</th>\n",
              "      <td>Österreich war das erste Land in der Europäisc...</td>\n",
              "      <td>1.0</td>\n",
              "    </tr>\n",
              "  </tbody>\n",
              "</table>\n",
              "<p>991 rows × 2 columns</p>\n",
              "</div>\n",
              "      <button class=\"colab-df-convert\" onclick=\"convertToInteractive('df-e333d18a-fa72-4829-aeb1-91c3602ab2fe')\"\n",
              "              title=\"Convert this dataframe to an interactive table.\"\n",
              "              style=\"display:none;\">\n",
              "        \n",
              "  <svg xmlns=\"http://www.w3.org/2000/svg\" height=\"24px\"viewBox=\"0 0 24 24\"\n",
              "       width=\"24px\">\n",
              "    <path d=\"M0 0h24v24H0V0z\" fill=\"none\"/>\n",
              "    <path d=\"M18.56 5.44l.94 2.06.94-2.06 2.06-.94-2.06-.94-.94-2.06-.94 2.06-2.06.94zm-11 1L8.5 8.5l.94-2.06 2.06-.94-2.06-.94L8.5 2.5l-.94 2.06-2.06.94zm10 10l.94 2.06.94-2.06 2.06-.94-2.06-.94-.94-2.06-.94 2.06-2.06.94z\"/><path d=\"M17.41 7.96l-1.37-1.37c-.4-.4-.92-.59-1.43-.59-.52 0-1.04.2-1.43.59L10.3 9.45l-7.72 7.72c-.78.78-.78 2.05 0 2.83L4 21.41c.39.39.9.59 1.41.59.51 0 1.02-.2 1.41-.59l7.78-7.78 2.81-2.81c.8-.78.8-2.07 0-2.86zM5.41 20L4 18.59l7.72-7.72 1.47 1.35L5.41 20z\"/>\n",
              "  </svg>\n",
              "      </button>\n",
              "      \n",
              "  <style>\n",
              "    .colab-df-container {\n",
              "      display:flex;\n",
              "      flex-wrap:wrap;\n",
              "      gap: 12px;\n",
              "    }\n",
              "\n",
              "    .colab-df-convert {\n",
              "      background-color: #E8F0FE;\n",
              "      border: none;\n",
              "      border-radius: 50%;\n",
              "      cursor: pointer;\n",
              "      display: none;\n",
              "      fill: #1967D2;\n",
              "      height: 32px;\n",
              "      padding: 0 0 0 0;\n",
              "      width: 32px;\n",
              "    }\n",
              "\n",
              "    .colab-df-convert:hover {\n",
              "      background-color: #E2EBFA;\n",
              "      box-shadow: 0px 1px 2px rgba(60, 64, 67, 0.3), 0px 1px 3px 1px rgba(60, 64, 67, 0.15);\n",
              "      fill: #174EA6;\n",
              "    }\n",
              "\n",
              "    [theme=dark] .colab-df-convert {\n",
              "      background-color: #3B4455;\n",
              "      fill: #D2E3FC;\n",
              "    }\n",
              "\n",
              "    [theme=dark] .colab-df-convert:hover {\n",
              "      background-color: #434B5C;\n",
              "      box-shadow: 0px 1px 3px 1px rgba(0, 0, 0, 0.15);\n",
              "      filter: drop-shadow(0px 1px 2px rgba(0, 0, 0, 0.3));\n",
              "      fill: #FFFFFF;\n",
              "    }\n",
              "  </style>\n",
              "\n",
              "      <script>\n",
              "        const buttonEl =\n",
              "          document.querySelector('#df-e333d18a-fa72-4829-aeb1-91c3602ab2fe button.colab-df-convert');\n",
              "        buttonEl.style.display =\n",
              "          google.colab.kernel.accessAllowed ? 'block' : 'none';\n",
              "\n",
              "        async function convertToInteractive(key) {\n",
              "          const element = document.querySelector('#df-e333d18a-fa72-4829-aeb1-91c3602ab2fe');\n",
              "          const dataTable =\n",
              "            await google.colab.kernel.invokeFunction('convertToInteractive',\n",
              "                                                     [key], {});\n",
              "          if (!dataTable) return;\n",
              "\n",
              "          const docLinkHtml = 'Like what you see? Visit the ' +\n",
              "            '<a target=\"_blank\" href=https://colab.research.google.com/notebooks/data_table.ipynb>data table notebook</a>'\n",
              "            + ' to learn more about interactive tables.';\n",
              "          element.innerHTML = '';\n",
              "          dataTable['output_type'] = 'display_data';\n",
              "          await google.colab.output.renderOutput(dataTable, element);\n",
              "          const docLink = document.createElement('div');\n",
              "          docLink.innerHTML = docLinkHtml;\n",
              "          element.appendChild(docLink);\n",
              "        }\n",
              "      </script>\n",
              "    </div>\n",
              "  </div>\n",
              "  "
            ]
          },
          "metadata": {},
          "execution_count": 13
        }
      ]
    },
    {
      "cell_type": "markdown",
      "source": [
        "Preprocessing"
      ],
      "metadata": {
        "id": "dmTib3PA3dr7"
      }
    },
    {
      "cell_type": "code",
      "source": [
        "#Preprocessing for dataframe\n",
        "def preprocess_df(input):\n",
        "  input = input.apply(lambda x: x.lower())   #lower case\n",
        "  input = input.apply(lambda x: x.strip())   #remove whitespace left and right\n",
        "  return input"
      ],
      "metadata": {
        "id": "BXS0scbzIY4k"
      },
      "execution_count": 14,
      "outputs": []
    },
    {
      "cell_type": "code",
      "source": [
        "df[\"Statement\"] = df[[\"Statement\"]].apply(preprocess_df)"
      ],
      "metadata": {
        "id": "61E6m_6M2hb9"
      },
      "execution_count": 15,
      "outputs": []
    },
    {
      "cell_type": "code",
      "source": [
        "df.head()"
      ],
      "metadata": {
        "id": "dOA6_wwO2wlZ",
        "colab": {
          "base_uri": "https://localhost:8080/",
          "height": 381
        },
        "outputId": "44811987-ff1b-4b39-9eae-9b79cdebee03"
      },
      "execution_count": 16,
      "outputs": [
        {
          "output_type": "execute_result",
          "data": {
            "text/plain": [
              "                                               Statement            Source   \\\n",
              "Index                                                                         \n",
              "659    der impfstoff kann eine covid19erkrankung vers...               BR24   \n",
              "438    vorläufige erkenntnisse deuten darauf hin dass...                RKI   \n",
              "842    bewohner eines pfelgeheims der diakonie in sac...  Facts For Friends   \n",
              "498    kinder mit vorerkrankungen sollen weiterhin ei...                RKI   \n",
              "490    darüber hinaus sind abstand halten maske trage...                RKI   \n",
              "\n",
              "                                            Source (URL)       Date + time  \\\n",
              "Index                                                                        \n",
              "659    https://www.br.de/nachrichten/wissen/fake-news...  2021-07-19 16-21   \n",
              "438    https://www.rki.de/SharedDocs/FAQ/COVID-Impfen...        2022-05-24   \n",
              "842    https://www.factsforfriends.de/fact/5ff85b479a...        2021-01-08   \n",
              "498    https://www.rki.de/SharedDocs/FAQ/COVID-Impfen...        2022-06-11   \n",
              "490    https://www.rki.de/SharedDocs/FAQ/COVID-Impfen...        2022-06-03   \n",
              "\n",
              "       True/False                               Evidence (why true?)  \\\n",
              "Index                                                                  \n",
              "659         False  Lack of understanding complex medical/biologic...   \n",
              "438          True                                                NaN   \n",
              "842         False                                 Falsche Behauptung   \n",
              "498          True                                                NaN   \n",
              "490          True                                                NaN   \n",
              "\n",
              "                          Category  \n",
              "Index                               \n",
              "659    Consequences of vaccination  \n",
              "438                            NaN  \n",
              "842            Vaccination mandate  \n",
              "498                            NaN  \n",
              "490                            NaN  "
            ],
            "text/html": [
              "\n",
              "  <div id=\"df-be8110fb-1b80-4f8e-a0d9-14e46012f705\">\n",
              "    <div class=\"colab-df-container\">\n",
              "      <div>\n",
              "<style scoped>\n",
              "    .dataframe tbody tr th:only-of-type {\n",
              "        vertical-align: middle;\n",
              "    }\n",
              "\n",
              "    .dataframe tbody tr th {\n",
              "        vertical-align: top;\n",
              "    }\n",
              "\n",
              "    .dataframe thead th {\n",
              "        text-align: right;\n",
              "    }\n",
              "</style>\n",
              "<table border=\"1\" class=\"dataframe\">\n",
              "  <thead>\n",
              "    <tr style=\"text-align: right;\">\n",
              "      <th></th>\n",
              "      <th>Statement</th>\n",
              "      <th>Source</th>\n",
              "      <th>Source (URL)</th>\n",
              "      <th>Date + time</th>\n",
              "      <th>True/False</th>\n",
              "      <th>Evidence (why true?)</th>\n",
              "      <th>Category</th>\n",
              "    </tr>\n",
              "    <tr>\n",
              "      <th>Index</th>\n",
              "      <th></th>\n",
              "      <th></th>\n",
              "      <th></th>\n",
              "      <th></th>\n",
              "      <th></th>\n",
              "      <th></th>\n",
              "      <th></th>\n",
              "    </tr>\n",
              "  </thead>\n",
              "  <tbody>\n",
              "    <tr>\n",
              "      <th>659</th>\n",
              "      <td>der impfstoff kann eine covid19erkrankung vers...</td>\n",
              "      <td>BR24</td>\n",
              "      <td>https://www.br.de/nachrichten/wissen/fake-news...</td>\n",
              "      <td>2021-07-19 16-21</td>\n",
              "      <td>False</td>\n",
              "      <td>Lack of understanding complex medical/biologic...</td>\n",
              "      <td>Consequences of vaccination</td>\n",
              "    </tr>\n",
              "    <tr>\n",
              "      <th>438</th>\n",
              "      <td>vorläufige erkenntnisse deuten darauf hin dass...</td>\n",
              "      <td>RKI</td>\n",
              "      <td>https://www.rki.de/SharedDocs/FAQ/COVID-Impfen...</td>\n",
              "      <td>2022-05-24</td>\n",
              "      <td>True</td>\n",
              "      <td>NaN</td>\n",
              "      <td>NaN</td>\n",
              "    </tr>\n",
              "    <tr>\n",
              "      <th>842</th>\n",
              "      <td>bewohner eines pfelgeheims der diakonie in sac...</td>\n",
              "      <td>Facts For Friends</td>\n",
              "      <td>https://www.factsforfriends.de/fact/5ff85b479a...</td>\n",
              "      <td>2021-01-08</td>\n",
              "      <td>False</td>\n",
              "      <td>Falsche Behauptung</td>\n",
              "      <td>Vaccination mandate</td>\n",
              "    </tr>\n",
              "    <tr>\n",
              "      <th>498</th>\n",
              "      <td>kinder mit vorerkrankungen sollen weiterhin ei...</td>\n",
              "      <td>RKI</td>\n",
              "      <td>https://www.rki.de/SharedDocs/FAQ/COVID-Impfen...</td>\n",
              "      <td>2022-06-11</td>\n",
              "      <td>True</td>\n",
              "      <td>NaN</td>\n",
              "      <td>NaN</td>\n",
              "    </tr>\n",
              "    <tr>\n",
              "      <th>490</th>\n",
              "      <td>darüber hinaus sind abstand halten maske trage...</td>\n",
              "      <td>RKI</td>\n",
              "      <td>https://www.rki.de/SharedDocs/FAQ/COVID-Impfen...</td>\n",
              "      <td>2022-06-03</td>\n",
              "      <td>True</td>\n",
              "      <td>NaN</td>\n",
              "      <td>NaN</td>\n",
              "    </tr>\n",
              "  </tbody>\n",
              "</table>\n",
              "</div>\n",
              "      <button class=\"colab-df-convert\" onclick=\"convertToInteractive('df-be8110fb-1b80-4f8e-a0d9-14e46012f705')\"\n",
              "              title=\"Convert this dataframe to an interactive table.\"\n",
              "              style=\"display:none;\">\n",
              "        \n",
              "  <svg xmlns=\"http://www.w3.org/2000/svg\" height=\"24px\"viewBox=\"0 0 24 24\"\n",
              "       width=\"24px\">\n",
              "    <path d=\"M0 0h24v24H0V0z\" fill=\"none\"/>\n",
              "    <path d=\"M18.56 5.44l.94 2.06.94-2.06 2.06-.94-2.06-.94-.94-2.06-.94 2.06-2.06.94zm-11 1L8.5 8.5l.94-2.06 2.06-.94-2.06-.94L8.5 2.5l-.94 2.06-2.06.94zm10 10l.94 2.06.94-2.06 2.06-.94-2.06-.94-.94-2.06-.94 2.06-2.06.94z\"/><path d=\"M17.41 7.96l-1.37-1.37c-.4-.4-.92-.59-1.43-.59-.52 0-1.04.2-1.43.59L10.3 9.45l-7.72 7.72c-.78.78-.78 2.05 0 2.83L4 21.41c.39.39.9.59 1.41.59.51 0 1.02-.2 1.41-.59l7.78-7.78 2.81-2.81c.8-.78.8-2.07 0-2.86zM5.41 20L4 18.59l7.72-7.72 1.47 1.35L5.41 20z\"/>\n",
              "  </svg>\n",
              "      </button>\n",
              "      \n",
              "  <style>\n",
              "    .colab-df-container {\n",
              "      display:flex;\n",
              "      flex-wrap:wrap;\n",
              "      gap: 12px;\n",
              "    }\n",
              "\n",
              "    .colab-df-convert {\n",
              "      background-color: #E8F0FE;\n",
              "      border: none;\n",
              "      border-radius: 50%;\n",
              "      cursor: pointer;\n",
              "      display: none;\n",
              "      fill: #1967D2;\n",
              "      height: 32px;\n",
              "      padding: 0 0 0 0;\n",
              "      width: 32px;\n",
              "    }\n",
              "\n",
              "    .colab-df-convert:hover {\n",
              "      background-color: #E2EBFA;\n",
              "      box-shadow: 0px 1px 2px rgba(60, 64, 67, 0.3), 0px 1px 3px 1px rgba(60, 64, 67, 0.15);\n",
              "      fill: #174EA6;\n",
              "    }\n",
              "\n",
              "    [theme=dark] .colab-df-convert {\n",
              "      background-color: #3B4455;\n",
              "      fill: #D2E3FC;\n",
              "    }\n",
              "\n",
              "    [theme=dark] .colab-df-convert:hover {\n",
              "      background-color: #434B5C;\n",
              "      box-shadow: 0px 1px 3px 1px rgba(0, 0, 0, 0.15);\n",
              "      filter: drop-shadow(0px 1px 2px rgba(0, 0, 0, 0.3));\n",
              "      fill: #FFFFFF;\n",
              "    }\n",
              "  </style>\n",
              "\n",
              "      <script>\n",
              "        const buttonEl =\n",
              "          document.querySelector('#df-be8110fb-1b80-4f8e-a0d9-14e46012f705 button.colab-df-convert');\n",
              "        buttonEl.style.display =\n",
              "          google.colab.kernel.accessAllowed ? 'block' : 'none';\n",
              "\n",
              "        async function convertToInteractive(key) {\n",
              "          const element = document.querySelector('#df-be8110fb-1b80-4f8e-a0d9-14e46012f705');\n",
              "          const dataTable =\n",
              "            await google.colab.kernel.invokeFunction('convertToInteractive',\n",
              "                                                     [key], {});\n",
              "          if (!dataTable) return;\n",
              "\n",
              "          const docLinkHtml = 'Like what you see? Visit the ' +\n",
              "            '<a target=\"_blank\" href=https://colab.research.google.com/notebooks/data_table.ipynb>data table notebook</a>'\n",
              "            + ' to learn more about interactive tables.';\n",
              "          element.innerHTML = '';\n",
              "          dataTable['output_type'] = 'display_data';\n",
              "          await google.colab.output.renderOutput(dataTable, element);\n",
              "          const docLink = document.createElement('div');\n",
              "          docLink.innerHTML = docLinkHtml;\n",
              "          element.appendChild(docLink);\n",
              "        }\n",
              "      </script>\n",
              "    </div>\n",
              "  </div>\n",
              "  "
            ]
          },
          "metadata": {},
          "execution_count": 16
        }
      ]
    },
    {
      "cell_type": "code",
      "source": [
        "#Preprocessing for user's sentence\n",
        "def preprocess_user(input):\n",
        "  input = input.lower()   #lower case\n",
        "  inout = input.strip()   #remove whitespace left and right\n",
        "  return input"
      ],
      "metadata": {
        "id": "I1tkS0_w24jg"
      },
      "execution_count": 17,
      "outputs": []
    },
    {
      "cell_type": "code",
      "source": [
        "example = preprocess_user(example)\n",
        "print(example)"
      ],
      "metadata": {
        "id": "KBH1fKcWIqIL",
        "colab": {
          "base_uri": "https://localhost:8080/"
        },
        "outputId": "4597debf-e8bf-4be0-f87c-3af5a20c7032"
      },
      "execution_count": 18,
      "outputs": [
        {
          "output_type": "stream",
          "name": "stdout",
          "text": [
            "der covid19impfstoff spikevax von moderna ist jetzt in europa für die anwendung bei kindern ab 6 jahren zugelassen worden\n"
          ]
        }
      ]
    },
    {
      "cell_type": "code",
      "execution_count": null,
      "metadata": {
        "id": "ZIedhq4OBB_t"
      },
      "outputs": [],
      "source": [
        "#Tokenization: bringing sentences into world\n",
        "import nltk\n",
        "nltk.download(\"punkt\")\n",
        "nltk.download(\"wordnet\")"
      ]
    },
    {
      "cell_type": "code",
      "source": [
        "#Tokenization for dataframe\n",
        "def tokenize_df(input):\n",
        "  input = input.apply(lambda x: nltk.word_tokenize(x))\n",
        "  return input"
      ],
      "metadata": {
        "id": "G2JXhWol3xhc"
      },
      "execution_count": 20,
      "outputs": []
    },
    {
      "cell_type": "code",
      "source": [
        "df[\"Statement\"] = df[[\"Statement\"]].apply(tokenize_df)"
      ],
      "metadata": {
        "id": "kGcqT5bx3uVC"
      },
      "execution_count": 21,
      "outputs": []
    },
    {
      "cell_type": "code",
      "source": [
        "df.head()"
      ],
      "metadata": {
        "id": "2vqecZfM4QFl",
        "colab": {
          "base_uri": "https://localhost:8080/",
          "height": 381
        },
        "outputId": "45812adb-c65f-4bb9-b12b-d3c7f5b12995"
      },
      "execution_count": 22,
      "outputs": [
        {
          "output_type": "execute_result",
          "data": {
            "text/plain": [
              "                                               Statement            Source   \\\n",
              "Index                                                                         \n",
              "659    [der, impfstoff, kann, eine, covid19erkrankung...               BR24   \n",
              "438    [vorläufige, erkenntnisse, deuten, darauf, hin...                RKI   \n",
              "842    [bewohner, eines, pfelgeheims, der, diakonie, ...  Facts For Friends   \n",
              "498    [kinder, mit, vorerkrankungen, sollen, weiterh...                RKI   \n",
              "490    [darüber, hinaus, sind, abstand, halten, maske...                RKI   \n",
              "\n",
              "                                            Source (URL)       Date + time  \\\n",
              "Index                                                                        \n",
              "659    https://www.br.de/nachrichten/wissen/fake-news...  2021-07-19 16-21   \n",
              "438    https://www.rki.de/SharedDocs/FAQ/COVID-Impfen...        2022-05-24   \n",
              "842    https://www.factsforfriends.de/fact/5ff85b479a...        2021-01-08   \n",
              "498    https://www.rki.de/SharedDocs/FAQ/COVID-Impfen...        2022-06-11   \n",
              "490    https://www.rki.de/SharedDocs/FAQ/COVID-Impfen...        2022-06-03   \n",
              "\n",
              "       True/False                               Evidence (why true?)  \\\n",
              "Index                                                                  \n",
              "659         False  Lack of understanding complex medical/biologic...   \n",
              "438          True                                                NaN   \n",
              "842         False                                 Falsche Behauptung   \n",
              "498          True                                                NaN   \n",
              "490          True                                                NaN   \n",
              "\n",
              "                          Category  \n",
              "Index                               \n",
              "659    Consequences of vaccination  \n",
              "438                            NaN  \n",
              "842            Vaccination mandate  \n",
              "498                            NaN  \n",
              "490                            NaN  "
            ],
            "text/html": [
              "\n",
              "  <div id=\"df-17b48b78-e3ce-4ca7-b04f-27dee9d955dc\">\n",
              "    <div class=\"colab-df-container\">\n",
              "      <div>\n",
              "<style scoped>\n",
              "    .dataframe tbody tr th:only-of-type {\n",
              "        vertical-align: middle;\n",
              "    }\n",
              "\n",
              "    .dataframe tbody tr th {\n",
              "        vertical-align: top;\n",
              "    }\n",
              "\n",
              "    .dataframe thead th {\n",
              "        text-align: right;\n",
              "    }\n",
              "</style>\n",
              "<table border=\"1\" class=\"dataframe\">\n",
              "  <thead>\n",
              "    <tr style=\"text-align: right;\">\n",
              "      <th></th>\n",
              "      <th>Statement</th>\n",
              "      <th>Source</th>\n",
              "      <th>Source (URL)</th>\n",
              "      <th>Date + time</th>\n",
              "      <th>True/False</th>\n",
              "      <th>Evidence (why true?)</th>\n",
              "      <th>Category</th>\n",
              "    </tr>\n",
              "    <tr>\n",
              "      <th>Index</th>\n",
              "      <th></th>\n",
              "      <th></th>\n",
              "      <th></th>\n",
              "      <th></th>\n",
              "      <th></th>\n",
              "      <th></th>\n",
              "      <th></th>\n",
              "    </tr>\n",
              "  </thead>\n",
              "  <tbody>\n",
              "    <tr>\n",
              "      <th>659</th>\n",
              "      <td>[der, impfstoff, kann, eine, covid19erkrankung...</td>\n",
              "      <td>BR24</td>\n",
              "      <td>https://www.br.de/nachrichten/wissen/fake-news...</td>\n",
              "      <td>2021-07-19 16-21</td>\n",
              "      <td>False</td>\n",
              "      <td>Lack of understanding complex medical/biologic...</td>\n",
              "      <td>Consequences of vaccination</td>\n",
              "    </tr>\n",
              "    <tr>\n",
              "      <th>438</th>\n",
              "      <td>[vorläufige, erkenntnisse, deuten, darauf, hin...</td>\n",
              "      <td>RKI</td>\n",
              "      <td>https://www.rki.de/SharedDocs/FAQ/COVID-Impfen...</td>\n",
              "      <td>2022-05-24</td>\n",
              "      <td>True</td>\n",
              "      <td>NaN</td>\n",
              "      <td>NaN</td>\n",
              "    </tr>\n",
              "    <tr>\n",
              "      <th>842</th>\n",
              "      <td>[bewohner, eines, pfelgeheims, der, diakonie, ...</td>\n",
              "      <td>Facts For Friends</td>\n",
              "      <td>https://www.factsforfriends.de/fact/5ff85b479a...</td>\n",
              "      <td>2021-01-08</td>\n",
              "      <td>False</td>\n",
              "      <td>Falsche Behauptung</td>\n",
              "      <td>Vaccination mandate</td>\n",
              "    </tr>\n",
              "    <tr>\n",
              "      <th>498</th>\n",
              "      <td>[kinder, mit, vorerkrankungen, sollen, weiterh...</td>\n",
              "      <td>RKI</td>\n",
              "      <td>https://www.rki.de/SharedDocs/FAQ/COVID-Impfen...</td>\n",
              "      <td>2022-06-11</td>\n",
              "      <td>True</td>\n",
              "      <td>NaN</td>\n",
              "      <td>NaN</td>\n",
              "    </tr>\n",
              "    <tr>\n",
              "      <th>490</th>\n",
              "      <td>[darüber, hinaus, sind, abstand, halten, maske...</td>\n",
              "      <td>RKI</td>\n",
              "      <td>https://www.rki.de/SharedDocs/FAQ/COVID-Impfen...</td>\n",
              "      <td>2022-06-03</td>\n",
              "      <td>True</td>\n",
              "      <td>NaN</td>\n",
              "      <td>NaN</td>\n",
              "    </tr>\n",
              "  </tbody>\n",
              "</table>\n",
              "</div>\n",
              "      <button class=\"colab-df-convert\" onclick=\"convertToInteractive('df-17b48b78-e3ce-4ca7-b04f-27dee9d955dc')\"\n",
              "              title=\"Convert this dataframe to an interactive table.\"\n",
              "              style=\"display:none;\">\n",
              "        \n",
              "  <svg xmlns=\"http://www.w3.org/2000/svg\" height=\"24px\"viewBox=\"0 0 24 24\"\n",
              "       width=\"24px\">\n",
              "    <path d=\"M0 0h24v24H0V0z\" fill=\"none\"/>\n",
              "    <path d=\"M18.56 5.44l.94 2.06.94-2.06 2.06-.94-2.06-.94-.94-2.06-.94 2.06-2.06.94zm-11 1L8.5 8.5l.94-2.06 2.06-.94-2.06-.94L8.5 2.5l-.94 2.06-2.06.94zm10 10l.94 2.06.94-2.06 2.06-.94-2.06-.94-.94-2.06-.94 2.06-2.06.94z\"/><path d=\"M17.41 7.96l-1.37-1.37c-.4-.4-.92-.59-1.43-.59-.52 0-1.04.2-1.43.59L10.3 9.45l-7.72 7.72c-.78.78-.78 2.05 0 2.83L4 21.41c.39.39.9.59 1.41.59.51 0 1.02-.2 1.41-.59l7.78-7.78 2.81-2.81c.8-.78.8-2.07 0-2.86zM5.41 20L4 18.59l7.72-7.72 1.47 1.35L5.41 20z\"/>\n",
              "  </svg>\n",
              "      </button>\n",
              "      \n",
              "  <style>\n",
              "    .colab-df-container {\n",
              "      display:flex;\n",
              "      flex-wrap:wrap;\n",
              "      gap: 12px;\n",
              "    }\n",
              "\n",
              "    .colab-df-convert {\n",
              "      background-color: #E8F0FE;\n",
              "      border: none;\n",
              "      border-radius: 50%;\n",
              "      cursor: pointer;\n",
              "      display: none;\n",
              "      fill: #1967D2;\n",
              "      height: 32px;\n",
              "      padding: 0 0 0 0;\n",
              "      width: 32px;\n",
              "    }\n",
              "\n",
              "    .colab-df-convert:hover {\n",
              "      background-color: #E2EBFA;\n",
              "      box-shadow: 0px 1px 2px rgba(60, 64, 67, 0.3), 0px 1px 3px 1px rgba(60, 64, 67, 0.15);\n",
              "      fill: #174EA6;\n",
              "    }\n",
              "\n",
              "    [theme=dark] .colab-df-convert {\n",
              "      background-color: #3B4455;\n",
              "      fill: #D2E3FC;\n",
              "    }\n",
              "\n",
              "    [theme=dark] .colab-df-convert:hover {\n",
              "      background-color: #434B5C;\n",
              "      box-shadow: 0px 1px 3px 1px rgba(0, 0, 0, 0.15);\n",
              "      filter: drop-shadow(0px 1px 2px rgba(0, 0, 0, 0.3));\n",
              "      fill: #FFFFFF;\n",
              "    }\n",
              "  </style>\n",
              "\n",
              "      <script>\n",
              "        const buttonEl =\n",
              "          document.querySelector('#df-17b48b78-e3ce-4ca7-b04f-27dee9d955dc button.colab-df-convert');\n",
              "        buttonEl.style.display =\n",
              "          google.colab.kernel.accessAllowed ? 'block' : 'none';\n",
              "\n",
              "        async function convertToInteractive(key) {\n",
              "          const element = document.querySelector('#df-17b48b78-e3ce-4ca7-b04f-27dee9d955dc');\n",
              "          const dataTable =\n",
              "            await google.colab.kernel.invokeFunction('convertToInteractive',\n",
              "                                                     [key], {});\n",
              "          if (!dataTable) return;\n",
              "\n",
              "          const docLinkHtml = 'Like what you see? Visit the ' +\n",
              "            '<a target=\"_blank\" href=https://colab.research.google.com/notebooks/data_table.ipynb>data table notebook</a>'\n",
              "            + ' to learn more about interactive tables.';\n",
              "          element.innerHTML = '';\n",
              "          dataTable['output_type'] = 'display_data';\n",
              "          await google.colab.output.renderOutput(dataTable, element);\n",
              "          const docLink = document.createElement('div');\n",
              "          docLink.innerHTML = docLinkHtml;\n",
              "          element.appendChild(docLink);\n",
              "        }\n",
              "      </script>\n",
              "    </div>\n",
              "  </div>\n",
              "  "
            ]
          },
          "metadata": {},
          "execution_count": 22
        }
      ]
    },
    {
      "cell_type": "code",
      "source": [
        "#Tokenization for user's sentence\n",
        "def tokenize_user(input):\n",
        "  input = nltk.word_tokenize(input)\n",
        "  return input"
      ],
      "metadata": {
        "id": "vEkIG3y130zf"
      },
      "execution_count": 23,
      "outputs": []
    },
    {
      "cell_type": "code",
      "source": [
        "example = tokenize_user(example)\n",
        "print(example)"
      ],
      "metadata": {
        "id": "agUe92i646kV",
        "colab": {
          "base_uri": "https://localhost:8080/"
        },
        "outputId": "2b8415d1-b107-4528-dc85-533c2dbeac81"
      },
      "execution_count": 24,
      "outputs": [
        {
          "output_type": "stream",
          "name": "stdout",
          "text": [
            "['der', 'covid19impfstoff', 'spikevax', 'von', 'moderna', 'ist', 'jetzt', 'in', 'europa', 'für', 'die', 'anwendung', 'bei', 'kindern', 'ab', '6', 'jahren', 'zugelassen', 'worden']\n"
          ]
        }
      ]
    },
    {
      "cell_type": "code",
      "execution_count": null,
      "metadata": {
        "id": "QW1gsQiXBDUj"
      },
      "outputs": [],
      "source": [
        "#Importing the stop words\n",
        "#German stop word library from nltk\n",
        "nltk.download(\"stopwords\")\n",
        "from nltk.corpus import stopwords\n",
        "\n",
        "stopWordsGerman = stopwords.words(\"german\")\n",
        "len(stopWordsGerman)   #232 words"
      ]
    },
    {
      "cell_type": "code",
      "execution_count": 26,
      "metadata": {
        "id": "K7dV0GtkBzTT"
      },
      "outputs": [],
      "source": [
        "#Removing stop words in dataframe\n",
        "def remove_stopwords_df(input):\n",
        "  input = input.apply(lambda element: [word for word in element if not word in stopWordsGerman])\n",
        "  input = input.apply(lambda x: ' '.join([word for word in x]))   #You can join the list of above words to create a sentence without stop words, as shown below:\n",
        "  return input"
      ]
    },
    {
      "cell_type": "code",
      "source": [
        "df[\"Statement\"] = df[[\"Statement\"]].apply(remove_stopwords_df)"
      ],
      "metadata": {
        "id": "xmJHku4T5L9R"
      },
      "execution_count": 27,
      "outputs": []
    },
    {
      "cell_type": "code",
      "source": [
        "df.head()"
      ],
      "metadata": {
        "id": "I4KwRpA557gn",
        "colab": {
          "base_uri": "https://localhost:8080/",
          "height": 381
        },
        "outputId": "20a1257d-0f8f-431b-beab-28f50128480a"
      },
      "execution_count": 28,
      "outputs": [
        {
          "output_type": "execute_result",
          "data": {
            "text/plain": [
              "                                               Statement            Source   \\\n",
              "Index                                                                         \n",
              "659    impfstoff covid19erkrankung verschlimmern stat...               BR24   \n",
              "438    vorläufige erkenntnisse deuten darauf longcovi...                RKI   \n",
              "842    bewohner pfelgeheims diakonie sachsen coronaim...  Facts For Friends   \n",
              "498    kinder vorerkrankungen sollen weiterhin grundi...                RKI   \n",
              "490    darüber hinaus abstand halten maske tragen lüf...                RKI   \n",
              "\n",
              "                                            Source (URL)       Date + time  \\\n",
              "Index                                                                        \n",
              "659    https://www.br.de/nachrichten/wissen/fake-news...  2021-07-19 16-21   \n",
              "438    https://www.rki.de/SharedDocs/FAQ/COVID-Impfen...        2022-05-24   \n",
              "842    https://www.factsforfriends.de/fact/5ff85b479a...        2021-01-08   \n",
              "498    https://www.rki.de/SharedDocs/FAQ/COVID-Impfen...        2022-06-11   \n",
              "490    https://www.rki.de/SharedDocs/FAQ/COVID-Impfen...        2022-06-03   \n",
              "\n",
              "       True/False                               Evidence (why true?)  \\\n",
              "Index                                                                  \n",
              "659         False  Lack of understanding complex medical/biologic...   \n",
              "438          True                                                NaN   \n",
              "842         False                                 Falsche Behauptung   \n",
              "498          True                                                NaN   \n",
              "490          True                                                NaN   \n",
              "\n",
              "                          Category  \n",
              "Index                               \n",
              "659    Consequences of vaccination  \n",
              "438                            NaN  \n",
              "842            Vaccination mandate  \n",
              "498                            NaN  \n",
              "490                            NaN  "
            ],
            "text/html": [
              "\n",
              "  <div id=\"df-fbef26ea-2c8f-4441-9074-c359d6f5cac9\">\n",
              "    <div class=\"colab-df-container\">\n",
              "      <div>\n",
              "<style scoped>\n",
              "    .dataframe tbody tr th:only-of-type {\n",
              "        vertical-align: middle;\n",
              "    }\n",
              "\n",
              "    .dataframe tbody tr th {\n",
              "        vertical-align: top;\n",
              "    }\n",
              "\n",
              "    .dataframe thead th {\n",
              "        text-align: right;\n",
              "    }\n",
              "</style>\n",
              "<table border=\"1\" class=\"dataframe\">\n",
              "  <thead>\n",
              "    <tr style=\"text-align: right;\">\n",
              "      <th></th>\n",
              "      <th>Statement</th>\n",
              "      <th>Source</th>\n",
              "      <th>Source (URL)</th>\n",
              "      <th>Date + time</th>\n",
              "      <th>True/False</th>\n",
              "      <th>Evidence (why true?)</th>\n",
              "      <th>Category</th>\n",
              "    </tr>\n",
              "    <tr>\n",
              "      <th>Index</th>\n",
              "      <th></th>\n",
              "      <th></th>\n",
              "      <th></th>\n",
              "      <th></th>\n",
              "      <th></th>\n",
              "      <th></th>\n",
              "      <th></th>\n",
              "    </tr>\n",
              "  </thead>\n",
              "  <tbody>\n",
              "    <tr>\n",
              "      <th>659</th>\n",
              "      <td>impfstoff covid19erkrankung verschlimmern stat...</td>\n",
              "      <td>BR24</td>\n",
              "      <td>https://www.br.de/nachrichten/wissen/fake-news...</td>\n",
              "      <td>2021-07-19 16-21</td>\n",
              "      <td>False</td>\n",
              "      <td>Lack of understanding complex medical/biologic...</td>\n",
              "      <td>Consequences of vaccination</td>\n",
              "    </tr>\n",
              "    <tr>\n",
              "      <th>438</th>\n",
              "      <td>vorläufige erkenntnisse deuten darauf longcovi...</td>\n",
              "      <td>RKI</td>\n",
              "      <td>https://www.rki.de/SharedDocs/FAQ/COVID-Impfen...</td>\n",
              "      <td>2022-05-24</td>\n",
              "      <td>True</td>\n",
              "      <td>NaN</td>\n",
              "      <td>NaN</td>\n",
              "    </tr>\n",
              "    <tr>\n",
              "      <th>842</th>\n",
              "      <td>bewohner pfelgeheims diakonie sachsen coronaim...</td>\n",
              "      <td>Facts For Friends</td>\n",
              "      <td>https://www.factsforfriends.de/fact/5ff85b479a...</td>\n",
              "      <td>2021-01-08</td>\n",
              "      <td>False</td>\n",
              "      <td>Falsche Behauptung</td>\n",
              "      <td>Vaccination mandate</td>\n",
              "    </tr>\n",
              "    <tr>\n",
              "      <th>498</th>\n",
              "      <td>kinder vorerkrankungen sollen weiterhin grundi...</td>\n",
              "      <td>RKI</td>\n",
              "      <td>https://www.rki.de/SharedDocs/FAQ/COVID-Impfen...</td>\n",
              "      <td>2022-06-11</td>\n",
              "      <td>True</td>\n",
              "      <td>NaN</td>\n",
              "      <td>NaN</td>\n",
              "    </tr>\n",
              "    <tr>\n",
              "      <th>490</th>\n",
              "      <td>darüber hinaus abstand halten maske tragen lüf...</td>\n",
              "      <td>RKI</td>\n",
              "      <td>https://www.rki.de/SharedDocs/FAQ/COVID-Impfen...</td>\n",
              "      <td>2022-06-03</td>\n",
              "      <td>True</td>\n",
              "      <td>NaN</td>\n",
              "      <td>NaN</td>\n",
              "    </tr>\n",
              "  </tbody>\n",
              "</table>\n",
              "</div>\n",
              "      <button class=\"colab-df-convert\" onclick=\"convertToInteractive('df-fbef26ea-2c8f-4441-9074-c359d6f5cac9')\"\n",
              "              title=\"Convert this dataframe to an interactive table.\"\n",
              "              style=\"display:none;\">\n",
              "        \n",
              "  <svg xmlns=\"http://www.w3.org/2000/svg\" height=\"24px\"viewBox=\"0 0 24 24\"\n",
              "       width=\"24px\">\n",
              "    <path d=\"M0 0h24v24H0V0z\" fill=\"none\"/>\n",
              "    <path d=\"M18.56 5.44l.94 2.06.94-2.06 2.06-.94-2.06-.94-.94-2.06-.94 2.06-2.06.94zm-11 1L8.5 8.5l.94-2.06 2.06-.94-2.06-.94L8.5 2.5l-.94 2.06-2.06.94zm10 10l.94 2.06.94-2.06 2.06-.94-2.06-.94-.94-2.06-.94 2.06-2.06.94z\"/><path d=\"M17.41 7.96l-1.37-1.37c-.4-.4-.92-.59-1.43-.59-.52 0-1.04.2-1.43.59L10.3 9.45l-7.72 7.72c-.78.78-.78 2.05 0 2.83L4 21.41c.39.39.9.59 1.41.59.51 0 1.02-.2 1.41-.59l7.78-7.78 2.81-2.81c.8-.78.8-2.07 0-2.86zM5.41 20L4 18.59l7.72-7.72 1.47 1.35L5.41 20z\"/>\n",
              "  </svg>\n",
              "      </button>\n",
              "      \n",
              "  <style>\n",
              "    .colab-df-container {\n",
              "      display:flex;\n",
              "      flex-wrap:wrap;\n",
              "      gap: 12px;\n",
              "    }\n",
              "\n",
              "    .colab-df-convert {\n",
              "      background-color: #E8F0FE;\n",
              "      border: none;\n",
              "      border-radius: 50%;\n",
              "      cursor: pointer;\n",
              "      display: none;\n",
              "      fill: #1967D2;\n",
              "      height: 32px;\n",
              "      padding: 0 0 0 0;\n",
              "      width: 32px;\n",
              "    }\n",
              "\n",
              "    .colab-df-convert:hover {\n",
              "      background-color: #E2EBFA;\n",
              "      box-shadow: 0px 1px 2px rgba(60, 64, 67, 0.3), 0px 1px 3px 1px rgba(60, 64, 67, 0.15);\n",
              "      fill: #174EA6;\n",
              "    }\n",
              "\n",
              "    [theme=dark] .colab-df-convert {\n",
              "      background-color: #3B4455;\n",
              "      fill: #D2E3FC;\n",
              "    }\n",
              "\n",
              "    [theme=dark] .colab-df-convert:hover {\n",
              "      background-color: #434B5C;\n",
              "      box-shadow: 0px 1px 3px 1px rgba(0, 0, 0, 0.15);\n",
              "      filter: drop-shadow(0px 1px 2px rgba(0, 0, 0, 0.3));\n",
              "      fill: #FFFFFF;\n",
              "    }\n",
              "  </style>\n",
              "\n",
              "      <script>\n",
              "        const buttonEl =\n",
              "          document.querySelector('#df-fbef26ea-2c8f-4441-9074-c359d6f5cac9 button.colab-df-convert');\n",
              "        buttonEl.style.display =\n",
              "          google.colab.kernel.accessAllowed ? 'block' : 'none';\n",
              "\n",
              "        async function convertToInteractive(key) {\n",
              "          const element = document.querySelector('#df-fbef26ea-2c8f-4441-9074-c359d6f5cac9');\n",
              "          const dataTable =\n",
              "            await google.colab.kernel.invokeFunction('convertToInteractive',\n",
              "                                                     [key], {});\n",
              "          if (!dataTable) return;\n",
              "\n",
              "          const docLinkHtml = 'Like what you see? Visit the ' +\n",
              "            '<a target=\"_blank\" href=https://colab.research.google.com/notebooks/data_table.ipynb>data table notebook</a>'\n",
              "            + ' to learn more about interactive tables.';\n",
              "          element.innerHTML = '';\n",
              "          dataTable['output_type'] = 'display_data';\n",
              "          await google.colab.output.renderOutput(dataTable, element);\n",
              "          const docLink = document.createElement('div');\n",
              "          docLink.innerHTML = docLinkHtml;\n",
              "          element.appendChild(docLink);\n",
              "        }\n",
              "      </script>\n",
              "    </div>\n",
              "  </div>\n",
              "  "
            ]
          },
          "metadata": {},
          "execution_count": 28
        }
      ]
    },
    {
      "cell_type": "code",
      "source": [
        "#Removing stop words in user's sentence\n",
        "def remove_stopwords_user(input):\n",
        "  new_list = list()\n",
        "  for word in input:\n",
        "    if not word in stopWordsGerman:\n",
        "      new_list.append(word)\n",
        "  sentence_withoutstopwords = ' '.join(new_list)\n",
        "  return sentence_withoutstopwords"
      ],
      "metadata": {
        "id": "ZnwBsRod6OPh"
      },
      "execution_count": 29,
      "outputs": []
    },
    {
      "cell_type": "code",
      "source": [
        "example = remove_stopwords_user(example)\n",
        "print(example)"
      ],
      "metadata": {
        "id": "vPkAYtaH_wZa",
        "colab": {
          "base_uri": "https://localhost:8080/"
        },
        "outputId": "fd5591be-b79f-48d3-b93a-de2299d89b1f"
      },
      "execution_count": 30,
      "outputs": [
        {
          "output_type": "stream",
          "name": "stdout",
          "text": [
            "covid19impfstoff spikevax moderna europa anwendung kindern ab 6 jahren zugelassen worden\n"
          ]
        }
      ]
    },
    {
      "cell_type": "code",
      "source": [
        "#Saving data after preprocessing part 1 as \"cleanedstatements.csv\"\n",
        "from google.colab import files\n",
        "df.to_csv('cleanedstatements.csv')\n",
        "files.download('cleanedstatements.csv')"
      ],
      "metadata": {
        "id": "OUqC9rlYNvTV"
      },
      "execution_count": null,
      "outputs": []
    },
    {
      "cell_type": "markdown",
      "source": [
        "Lemmatization"
      ],
      "metadata": {
        "id": "VhUMifDkZ6t5"
      }
    },
    {
      "cell_type": "code",
      "execution_count": null,
      "metadata": {
        "id": "MNtctxaTsfaF"
      },
      "outputs": [],
      "source": [
        "#Lemmatization\n",
        "#Preparation\n",
        "!pip install -U spacy                       #to install spacy-lemmatizer\n",
        "!python -m spacy download de_core_news_sm   #to download the German language module\n",
        "\n",
        "import spacy\n",
        "nlp = spacy.load(\"de_core_news_sm\")\n",
        "\n",
        "nlp.pipe_names   #to define specific lemmas yourself\n",
        "\n",
        "ar = nlp.get_pipe('attribute_ruler')\n",
        "\n",
        "#Phrases related to covid\n",
        "ar.add([[{\"TEXT\":\"vakzinen\"}],[{\"TEXT\":\"vakzine\"}],[{\"TEXT\":\"vaccination\"}],[{\"TEXT\":\"covid19impfung\"}],[{\"TEXT\":\"covidimpfung\"}],[{\"TEXT\":\"covid19schutzimpfung\"}],[{\"TEXT\":\"covidschutzimpfung\"}],[{\"TEXT\":\"coronaschutzimpfung\"}]],{\"LEMMA\":\"impfung\"})\n",
        "ar.add([[{\"TEXT\":\"impfstoffe\"}],[{\"TEXT\":\"impfstoffen\"}]],{\"LEMMA\":\"impfstoff\"})\n",
        "ar.add([[{\"TEXT\":\"covid19\"}],[{\"TEXT\":\"sarscov2\"}]],{\"LEMMA\":\"corona\"})\n",
        "ar.add([[{\"TEXT\":\"coronaerkrankung\"}],[{\"TEXT\":\"coronainfektion\"}],[{\"TEXT\":\"covid19infektion\"}],[{\"TEXT\":\"sarscov2infektion\"}]],{\"LEMMA\":\"corona\"})\n",
        "ar.add([[{\"TEXT\":\"covid19virus\"}],[{\"TEXT\":\"sarscov2virus\"}], [{\"TEXT\":\"coronaviren\"}]], {\"LEMMA\":\"coronavirus\"})\n",
        "ar.add([[{\"TEXT\":\"covid19impfstoff\"}],[{\"TEXT\":\"covidimpfstoffe\"}],[{\"TEXT\":\"covidimpfstoffe\"}]],{\"LEMMA\":\"coronaimpfstoff\"})\n",
        "ar.add([[{\"TEXT\":\"covid19auffrischimpfung\"}],[{\"TEXT\":\"covidauffrischimpfung\"}],[{\"TEXT\":\"coronaauffrischimpfung\"}],[{\"TEXT\":\"auffrischungsimpfung\"}],[{\"TEXT\":\"covid19auffrischungsimpfung\"}],[{\"TEXT\":\"covidiauffrischungsimpfung\"}],[{\"TEXT\":\"coronaauffrischungsimpfung\"}]],{\"LEMMA\":\"auffrischimpfung\"})\n",
        "\n",
        "#Other phrases\n",
        "ar.add([[{\"TEXT\":\"altersgruppe\"}]],{\"LEMMA\":\"altersklasse\"})\n",
        "ar.add([[{\"TEXT\":\"myokarditis\"}],[{\"TEXT\":\"myokarditiden\"}]],{\"LEMMA\":\"herzmuskelentzündung\"})\n",
        "ar.add([[{\"TEXT\":\"todesfälle\"}],[{\"TEXT\":\"sterbefall\"}],[{\"TEXT\":\"sterbefälle\"}],[{\"TEXT\":\"sterberate\"}],[{\"TEXT\":\"todesrate\"}]],{\"LEMMA\":\"todesfall\"})\n",
        "ar.add([[{\"TEXT\":\"fehlgeburten\"}],[{\"TEXT\":\"spontanabort\"}],[{\"TEXT\":\"fehlgeburt\"}],[{\"TEXT\":\"stillgeburt\"}],[{\"TEXT\":\"totgeburt\"}]],{\"LEMMA\":\"fehlgeburt\"})\n"
      ]
    },
    {
      "cell_type": "code",
      "source": [
        "df = pd.read_csv(\"cleanedstatements.csv\", index_col='Index')"
      ],
      "metadata": {
        "id": "pkKqckwEJVBA"
      },
      "execution_count": 33,
      "outputs": []
    },
    {
      "cell_type": "code",
      "source": [
        "def lemmatize_df(input):\n",
        "  lemmtext = []\n",
        "  doc = nlp(input)\n",
        "  input = [x.lemma_ for x in doc]\n",
        "  lemmtext.append(input)\n",
        "  return input"
      ],
      "metadata": {
        "id": "fQob3_NIYDdP"
      },
      "execution_count": 34,
      "outputs": []
    },
    {
      "cell_type": "code",
      "source": [
        "df[\"Statement\"] = df[\"Statement\"].apply(lemmatize_df)\n",
        "df[\"Statement\"] = df[\"Statement\"].apply(lambda x: ' '.join([word for word in x]))\n",
        "df[\"Statement\"] = df[\"Statement\"].apply(lambda x: x.lower())   #Through lemmatization, words with capital letters reappeared, so make everything lower case again"
      ],
      "metadata": {
        "id": "83wxcXzmJit7"
      },
      "execution_count": 35,
      "outputs": []
    },
    {
      "cell_type": "code",
      "source": [
        "df.head()"
      ],
      "metadata": {
        "id": "yHyeqiAdYjOa",
        "colab": {
          "base_uri": "https://localhost:8080/",
          "height": 381
        },
        "outputId": "b1c9d6d0-d0eb-4321-a2e0-8457aecdfeba"
      },
      "execution_count": 36,
      "outputs": [
        {
          "output_type": "execute_result",
          "data": {
            "text/plain": [
              "                                               Statement            Source   \\\n",
              "Index                                                                         \n",
              "659    impfstoff covid19erkrankung verschlimmern stat...               BR24   \n",
              "438    vorläufig erkenntnisse deuten darauf longcovid...                RKI   \n",
              "842    bewohner pfelgeheim diakonie sachs coronaimpfu...  Facts For Friends   \n",
              "498    kind vorerkrankungen sollen weiterhin grundimm...                RKI   \n",
              "490    darüber hinaus abstand halten maske tragen lüf...                RKI   \n",
              "\n",
              "                                            Source (URL)       Date + time  \\\n",
              "Index                                                                        \n",
              "659    https://www.br.de/nachrichten/wissen/fake-news...  2021-07-19 16-21   \n",
              "438    https://www.rki.de/SharedDocs/FAQ/COVID-Impfen...        2022-05-24   \n",
              "842    https://www.factsforfriends.de/fact/5ff85b479a...        2021-01-08   \n",
              "498    https://www.rki.de/SharedDocs/FAQ/COVID-Impfen...        2022-06-11   \n",
              "490    https://www.rki.de/SharedDocs/FAQ/COVID-Impfen...        2022-06-03   \n",
              "\n",
              "       True/False                               Evidence (why true?)  \\\n",
              "Index                                                                  \n",
              "659         False  Lack of understanding complex medical/biologic...   \n",
              "438          True                                                NaN   \n",
              "842         False                                 Falsche Behauptung   \n",
              "498          True                                                NaN   \n",
              "490          True                                                NaN   \n",
              "\n",
              "                          Category  \n",
              "Index                               \n",
              "659    Consequences of vaccination  \n",
              "438                            NaN  \n",
              "842            Vaccination mandate  \n",
              "498                            NaN  \n",
              "490                            NaN  "
            ],
            "text/html": [
              "\n",
              "  <div id=\"df-2f4f2101-921d-409a-8193-265f608822d9\">\n",
              "    <div class=\"colab-df-container\">\n",
              "      <div>\n",
              "<style scoped>\n",
              "    .dataframe tbody tr th:only-of-type {\n",
              "        vertical-align: middle;\n",
              "    }\n",
              "\n",
              "    .dataframe tbody tr th {\n",
              "        vertical-align: top;\n",
              "    }\n",
              "\n",
              "    .dataframe thead th {\n",
              "        text-align: right;\n",
              "    }\n",
              "</style>\n",
              "<table border=\"1\" class=\"dataframe\">\n",
              "  <thead>\n",
              "    <tr style=\"text-align: right;\">\n",
              "      <th></th>\n",
              "      <th>Statement</th>\n",
              "      <th>Source</th>\n",
              "      <th>Source (URL)</th>\n",
              "      <th>Date + time</th>\n",
              "      <th>True/False</th>\n",
              "      <th>Evidence (why true?)</th>\n",
              "      <th>Category</th>\n",
              "    </tr>\n",
              "    <tr>\n",
              "      <th>Index</th>\n",
              "      <th></th>\n",
              "      <th></th>\n",
              "      <th></th>\n",
              "      <th></th>\n",
              "      <th></th>\n",
              "      <th></th>\n",
              "      <th></th>\n",
              "    </tr>\n",
              "  </thead>\n",
              "  <tbody>\n",
              "    <tr>\n",
              "      <th>659</th>\n",
              "      <td>impfstoff covid19erkrankung verschlimmern stat...</td>\n",
              "      <td>BR24</td>\n",
              "      <td>https://www.br.de/nachrichten/wissen/fake-news...</td>\n",
              "      <td>2021-07-19 16-21</td>\n",
              "      <td>False</td>\n",
              "      <td>Lack of understanding complex medical/biologic...</td>\n",
              "      <td>Consequences of vaccination</td>\n",
              "    </tr>\n",
              "    <tr>\n",
              "      <th>438</th>\n",
              "      <td>vorläufig erkenntnisse deuten darauf longcovid...</td>\n",
              "      <td>RKI</td>\n",
              "      <td>https://www.rki.de/SharedDocs/FAQ/COVID-Impfen...</td>\n",
              "      <td>2022-05-24</td>\n",
              "      <td>True</td>\n",
              "      <td>NaN</td>\n",
              "      <td>NaN</td>\n",
              "    </tr>\n",
              "    <tr>\n",
              "      <th>842</th>\n",
              "      <td>bewohner pfelgeheim diakonie sachs coronaimpfu...</td>\n",
              "      <td>Facts For Friends</td>\n",
              "      <td>https://www.factsforfriends.de/fact/5ff85b479a...</td>\n",
              "      <td>2021-01-08</td>\n",
              "      <td>False</td>\n",
              "      <td>Falsche Behauptung</td>\n",
              "      <td>Vaccination mandate</td>\n",
              "    </tr>\n",
              "    <tr>\n",
              "      <th>498</th>\n",
              "      <td>kind vorerkrankungen sollen weiterhin grundimm...</td>\n",
              "      <td>RKI</td>\n",
              "      <td>https://www.rki.de/SharedDocs/FAQ/COVID-Impfen...</td>\n",
              "      <td>2022-06-11</td>\n",
              "      <td>True</td>\n",
              "      <td>NaN</td>\n",
              "      <td>NaN</td>\n",
              "    </tr>\n",
              "    <tr>\n",
              "      <th>490</th>\n",
              "      <td>darüber hinaus abstand halten maske tragen lüf...</td>\n",
              "      <td>RKI</td>\n",
              "      <td>https://www.rki.de/SharedDocs/FAQ/COVID-Impfen...</td>\n",
              "      <td>2022-06-03</td>\n",
              "      <td>True</td>\n",
              "      <td>NaN</td>\n",
              "      <td>NaN</td>\n",
              "    </tr>\n",
              "  </tbody>\n",
              "</table>\n",
              "</div>\n",
              "      <button class=\"colab-df-convert\" onclick=\"convertToInteractive('df-2f4f2101-921d-409a-8193-265f608822d9')\"\n",
              "              title=\"Convert this dataframe to an interactive table.\"\n",
              "              style=\"display:none;\">\n",
              "        \n",
              "  <svg xmlns=\"http://www.w3.org/2000/svg\" height=\"24px\"viewBox=\"0 0 24 24\"\n",
              "       width=\"24px\">\n",
              "    <path d=\"M0 0h24v24H0V0z\" fill=\"none\"/>\n",
              "    <path d=\"M18.56 5.44l.94 2.06.94-2.06 2.06-.94-2.06-.94-.94-2.06-.94 2.06-2.06.94zm-11 1L8.5 8.5l.94-2.06 2.06-.94-2.06-.94L8.5 2.5l-.94 2.06-2.06.94zm10 10l.94 2.06.94-2.06 2.06-.94-2.06-.94-.94-2.06-.94 2.06-2.06.94z\"/><path d=\"M17.41 7.96l-1.37-1.37c-.4-.4-.92-.59-1.43-.59-.52 0-1.04.2-1.43.59L10.3 9.45l-7.72 7.72c-.78.78-.78 2.05 0 2.83L4 21.41c.39.39.9.59 1.41.59.51 0 1.02-.2 1.41-.59l7.78-7.78 2.81-2.81c.8-.78.8-2.07 0-2.86zM5.41 20L4 18.59l7.72-7.72 1.47 1.35L5.41 20z\"/>\n",
              "  </svg>\n",
              "      </button>\n",
              "      \n",
              "  <style>\n",
              "    .colab-df-container {\n",
              "      display:flex;\n",
              "      flex-wrap:wrap;\n",
              "      gap: 12px;\n",
              "    }\n",
              "\n",
              "    .colab-df-convert {\n",
              "      background-color: #E8F0FE;\n",
              "      border: none;\n",
              "      border-radius: 50%;\n",
              "      cursor: pointer;\n",
              "      display: none;\n",
              "      fill: #1967D2;\n",
              "      height: 32px;\n",
              "      padding: 0 0 0 0;\n",
              "      width: 32px;\n",
              "    }\n",
              "\n",
              "    .colab-df-convert:hover {\n",
              "      background-color: #E2EBFA;\n",
              "      box-shadow: 0px 1px 2px rgba(60, 64, 67, 0.3), 0px 1px 3px 1px rgba(60, 64, 67, 0.15);\n",
              "      fill: #174EA6;\n",
              "    }\n",
              "\n",
              "    [theme=dark] .colab-df-convert {\n",
              "      background-color: #3B4455;\n",
              "      fill: #D2E3FC;\n",
              "    }\n",
              "\n",
              "    [theme=dark] .colab-df-convert:hover {\n",
              "      background-color: #434B5C;\n",
              "      box-shadow: 0px 1px 3px 1px rgba(0, 0, 0, 0.15);\n",
              "      filter: drop-shadow(0px 1px 2px rgba(0, 0, 0, 0.3));\n",
              "      fill: #FFFFFF;\n",
              "    }\n",
              "  </style>\n",
              "\n",
              "      <script>\n",
              "        const buttonEl =\n",
              "          document.querySelector('#df-2f4f2101-921d-409a-8193-265f608822d9 button.colab-df-convert');\n",
              "        buttonEl.style.display =\n",
              "          google.colab.kernel.accessAllowed ? 'block' : 'none';\n",
              "\n",
              "        async function convertToInteractive(key) {\n",
              "          const element = document.querySelector('#df-2f4f2101-921d-409a-8193-265f608822d9');\n",
              "          const dataTable =\n",
              "            await google.colab.kernel.invokeFunction('convertToInteractive',\n",
              "                                                     [key], {});\n",
              "          if (!dataTable) return;\n",
              "\n",
              "          const docLinkHtml = 'Like what you see? Visit the ' +\n",
              "            '<a target=\"_blank\" href=https://colab.research.google.com/notebooks/data_table.ipynb>data table notebook</a>'\n",
              "            + ' to learn more about interactive tables.';\n",
              "          element.innerHTML = '';\n",
              "          dataTable['output_type'] = 'display_data';\n",
              "          await google.colab.output.renderOutput(dataTable, element);\n",
              "          const docLink = document.createElement('div');\n",
              "          docLink.innerHTML = docLinkHtml;\n",
              "          element.appendChild(docLink);\n",
              "        }\n",
              "      </script>\n",
              "    </div>\n",
              "  </div>\n",
              "  "
            ]
          },
          "metadata": {},
          "execution_count": 36
        }
      ]
    },
    {
      "cell_type": "code",
      "source": [
        "def lemmatize_user(input):\n",
        "  lemmtext = []\n",
        "  doc = nlp(input)\n",
        "  input = [x.lemma_ for x in doc]\n",
        "  lemmtext.append(input)\n",
        "  lemmatized_sen = ' '.join(input)\n",
        "  lemmatized_sen = lemmatized_sen.lower()   #Through lemmatization, words with capital letters reappeared, so make everything lower case again\n",
        "  return lemmatized_sen"
      ],
      "metadata": {
        "id": "Le3lHjK3G4on"
      },
      "execution_count": 37,
      "outputs": []
    },
    {
      "cell_type": "code",
      "source": [
        "example = lemmatize_user(example)\n",
        "print(example)"
      ],
      "metadata": {
        "id": "HyVfB2geIyGY",
        "colab": {
          "base_uri": "https://localhost:8080/"
        },
        "outputId": "e09c1d0f-64bf-4783-8552-f4a560c6fb69"
      },
      "execution_count": 38,
      "outputs": [
        {
          "output_type": "stream",
          "name": "stdout",
          "text": [
            "coronaimpfstoff spikevax moderna europa anwendung kind ab 6 jahr zulassen werden\n"
          ]
        }
      ]
    },
    {
      "cell_type": "code",
      "source": [
        "#Saving data after lemmatization part 1 as \"lemmatizedstatements.csv\"\n",
        "from google.colab import files\n",
        "df.to_csv('lemmatizedstatements.csv')\n",
        "files.download('lemmatizedstatements.csv')"
      ],
      "metadata": {
        "id": "TxpOekzcTuGU"
      },
      "execution_count": null,
      "outputs": []
    },
    {
      "cell_type": "markdown",
      "source": [
        "Word Cloud"
      ],
      "metadata": {
        "id": "7gfb7PBv76eF"
      }
    },
    {
      "cell_type": "code",
      "execution_count": null,
      "metadata": {
        "id": "xW81aXd0bm_R"
      },
      "outputs": [],
      "source": [
        "#Word Cloud\n",
        "#Installing libraries needed\n",
        "!pip install numpy scipy matplotlib ipython jupyter pandas sympy nose wordcloud"
      ]
    },
    {
      "cell_type": "code",
      "execution_count": null,
      "metadata": {
        "id": "rqU2sN5fciG0"
      },
      "outputs": [],
      "source": [
        "from wordcloud import WordCloud, STOPWORDS \n",
        "import matplotlib.pyplot as plt \n",
        "import pandas as pd\n",
        "\n",
        "#If you want to look at Word Cloud in Colab, the following code is needed\n",
        "!pip install mpld3\n",
        "import mpld3\n",
        "import mpld3\n",
        "from mpld3 import plugins"
      ]
    },
    {
      "cell_type": "code",
      "execution_count": 42,
      "metadata": {
        "id": "nnJcuzkYfXu8"
      },
      "outputs": [],
      "source": [
        "comment_words = '' \n",
        "from nltk.corpus import stopwords\n",
        "stopset = stopwords.words('german')"
      ]
    },
    {
      "cell_type": "code",
      "execution_count": 43,
      "metadata": {
        "id": "nkS3SQyIhBiE"
      },
      "outputs": [],
      "source": [
        "df = pd.read_csv('lemmatizedstatements.csv')\n",
        "values = df['Statement'].values\n",
        "\n",
        "for val in values: \n",
        "    val = str(val) \n",
        "    tokens = val.split() \n",
        "    for i in range(len(tokens)): \n",
        "        tokens[i] = tokens[i].lower() \n",
        "    comment_words += ' '.join(tokens)+' '"
      ]
    },
    {
      "cell_type": "code",
      "execution_count": 44,
      "metadata": {
        "id": "aRO47ZVhCKNy"
      },
      "outputs": [],
      "source": [
        "facecolor = 'black'\n",
        "wordcloud = WordCloud(width=1000, height=600, \n",
        "            background_color=facecolor, \n",
        "            stopwords=stopset,\n",
        "            min_font_size=10).generate(comment_words)"
      ]
    },
    {
      "cell_type": "code",
      "execution_count": 45,
      "metadata": {
        "id": "JhAHTYzQCN4_",
        "colab": {
          "base_uri": "https://localhost:8080/",
          "height": 423
        },
        "outputId": "2a84150b-a119-4116-88db-2721e1519062"
      },
      "outputs": [
        {
          "output_type": "display_data",
          "data": {
            "text/plain": [
              "<Figure size 720x432 with 1 Axes>"
            ],
            "image/png": "[encoded data removed]"
          },
          "metadata": {}
        }
      ],
      "source": [
        "plt.figure(figsize=(10,6), facecolor=facecolor) \n",
        "plt.imshow(wordcloud) \n",
        "plt.axis('off') \n",
        "plt.tight_layout(pad=2)"
      ]
    },
    {
      "cell_type": "code",
      "execution_count": null,
      "metadata": {
        "id": "TJmNelcaCRNC"
      },
      "outputs": [],
      "source": [
        "#Saving Word Cloud in Colab\n",
        "filename = 'wordcloud'\n",
        "plt.savefig(filename+'.png', facecolor=facecolor)\n",
        "files.download('wordcloud.png')"
      ]
    },
    {
      "cell_type": "markdown",
      "metadata": {
        "id": "cvqAiB0_7bWB"
      },
      "source": [
        "Machine Learning Model: Logistic Regression"
      ]
    },
    {
      "cell_type": "code",
      "source": [
        "#Preparing fake news detector: training model with data"
      ],
      "metadata": {
        "id": "Zq2q0fr_BEVl"
      },
      "execution_count": null,
      "outputs": []
    },
    {
      "cell_type": "code",
      "execution_count": null,
      "metadata": {
        "id": "m25-rr-r7fV_"
      },
      "outputs": [],
      "source": [
        "#Following code is from: https://www.kaggle.com/code/shahkan/text-classification-using-logistic-regression/data\n",
        "import re\n",
        "import matplotlib.pyplot as plt\n",
        "from nltk.corpus import stopwords\n",
        "from nltk.stem import PorterStemmer\n",
        "from sklearn.feature_extraction.text import TfidfVectorizer\n",
        "from sklearn.pipeline import Pipeline\n",
        "from sklearn.metrics import classification_report, confusion_matrix\n",
        "from sklearn.model_selection import train_test_split\n",
        "from sklearn.feature_selection import SelectKBest, chi2\n",
        "from sqlite3 import Error\n",
        "from sklearn.ensemble import RandomForestClassifier\n",
        "import sqlite3\n",
        "import pickle\n",
        "import nltk\n",
        "nltk.download('stopwords')\n",
        "%matplotlib inline"
      ]
    },
    {
      "cell_type": "code",
      "source": [
        "dataset = pd.read_csv('lemmatizedstatements.csv')"
      ],
      "metadata": {
        "id": "eLgU6INwIKgG"
      },
      "execution_count": 48,
      "outputs": []
    },
    {
      "cell_type": "code",
      "source": [
        "#Some preprocessing again\n",
        "nltk.download('stopwords')\n",
        "stemmer = PorterStemmer()\n",
        "words = stopwords.words(\"german\")\n",
        "#sowas wie im Folgenden müssen wir auch noch machen: Alle Schritte von oben (Lemmatisierung, Whitespace entfernen etc.) irgendwie in einer neuen Spalte abspeichern, damit wir ein \"cleaned\"-set haben\n",
        "dataset['cleaned'] = dataset['Statement'].apply(lambda x: \" \".join([stemmer.stem(i) for i in re.sub(\"[^a-zA-Z]\", \" \", x).split() if i not in words]).lower())"
      ],
      "metadata": {
        "id": "fKySCSKGMOab",
        "colab": {
          "base_uri": "https://localhost:8080/"
        },
        "outputId": "76685856-44f1-472e-c5de-e89c8a292fb7"
      },
      "execution_count": 49,
      "outputs": [
        {
          "output_type": "stream",
          "name": "stderr",
          "text": [
            "[nltk_data] Downloading package stopwords to /root/nltk_data...\n",
            "[nltk_data]   Package stopwords is already up-to-date!\n"
          ]
        }
      ]
    },
    {
      "cell_type": "code",
      "source": [
        "#Stopwords are the same as above\n",
        "vectorizer = TfidfVectorizer(min_df= 3, stop_words=stopWordsGerman, sublinear_tf=True, norm='l2', ngram_range=(1, 2))\n",
        "final_features = vectorizer.fit_transform(dataset['cleaned']).toarray()\n",
        "final_features.shape"
      ],
      "metadata": {
        "id": "bUy8C-JzIN7s",
        "colab": {
          "base_uri": "https://localhost:8080/"
        },
        "outputId": "1ccaceb7-6f20-445a-98c8-2208c8d57fd2"
      },
      "execution_count": 50,
      "outputs": [
        {
          "output_type": "execute_result",
          "data": {
            "text/plain": [
              "(999, 1028)"
            ]
          },
          "metadata": {},
          "execution_count": 50
        }
      ]
    },
    {
      "cell_type": "code",
      "source": [
        "dataset['True/False']"
      ],
      "metadata": {
        "id": "2-ikPplIB5Pb",
        "colab": {
          "base_uri": "https://localhost:8080/"
        },
        "outputId": "236407db-3fda-4f47-87b3-294fc7a546e7"
      },
      "execution_count": 51,
      "outputs": [
        {
          "output_type": "execute_result",
          "data": {
            "text/plain": [
              "0      False\n",
              "1       True\n",
              "2      False\n",
              "3       True\n",
              "4       True\n",
              "       ...  \n",
              "994     True\n",
              "995     True\n",
              "996     True\n",
              "997     True\n",
              "998    False\n",
              "Name: True/False, Length: 999, dtype: bool"
            ]
          },
          "metadata": {},
          "execution_count": 51
        }
      ]
    },
    {
      "cell_type": "code",
      "source": [
        "#Alternative Logistic Regression model with code from: https://www.analyticsvidhya.com/blog/2021/04/beginners-guide-to-logistic-regression-using-python/ and': https://www.kaggle.com/code/shahkan/text-classification-using-logistic-regression/notebook\n",
        "\n",
        "from sklearn.linear_model import LogisticRegression\n",
        "X = dataset['cleaned']   #input\n",
        "Y = dataset['True/False']  #output\n",
        "X_train, X_test, y_train, y_test = train_test_split(X, Y, test_size=0.3, random_state=42, stratify=Y)\n",
        "\n",
        "from sklearn.linear_model import LogisticRegression\n",
        "model = LogisticRegression()\n",
        "pipeline = Pipeline([('vect', vectorizer),\n",
        "                     ('chi',  SelectKBest(chi2, k=708)),\n",
        "                     ('clf', LogisticRegression(random_state=42))])\n",
        "model = pipeline.fit(X_train, y_train)\n",
        "predictions = model.predict(X_test)\n",
        "probability = model.predict_proba(X)\n",
        "print(probability)   #left column of matrix: probability of predicted output being 0, right column: probability of predicted output being 1; rows: per each of our statements\n",
        "\n",
        "from sklearn.metrics import classification_report\n",
        "print(classification_report(y_test, predictions))\n",
        "\n",
        "from sklearn.metrics import confusion_matrix\n",
        "print(confusion_matrix(y_test, \n",
        "predictions))"
      ],
      "metadata": {
        "id": "uaPVnxqtv3CU",
        "colab": {
          "base_uri": "https://localhost:8080/"
        },
        "outputId": "55aaab56-879a-438f-f1ff-6a87d2325f4b"
      },
      "execution_count": 53,
      "outputs": [
        {
          "output_type": "stream",
          "name": "stdout",
          "text": [
            "[[0.59952059 0.40047941]\n",
            " [0.32333835 0.67666165]\n",
            " [0.83293742 0.16706258]\n",
            " ...\n",
            " [0.2180298  0.7819702 ]\n",
            " [0.71231193 0.28768807]\n",
            " [0.74815644 0.25184356]]\n",
            "              precision    recall  f1-score   support\n",
            "\n",
            "       False       0.84      0.79      0.82       149\n",
            "        True       0.81      0.85      0.83       151\n",
            "\n",
            "    accuracy                           0.82       300\n",
            "   macro avg       0.82      0.82      0.82       300\n",
            "weighted avg       0.82      0.82      0.82       300\n",
            "\n",
            "[[118  31]\n",
            " [ 22 129]]\n"
          ]
        }
      ]
    },
    {
      "cell_type": "code",
      "source": [
        "##one way to improve our model\n",
        "#set parameter C to 10 instead of 0 (by default)\n",
        "# model = LogisticRegression(C=10)\n",
        "#that is to avoid overfitting (model knows data too well)\n",
        "#explanation of parameter C here: https://realpython.com/logistic-regression-python/#regularization\n",
        "#but when I tested, values for accuracy (precision, recall, etc.) were exactly the same (?)"
      ],
      "metadata": {
        "id": "vUWE4mWGbv60"
      },
      "execution_count": 54,
      "outputs": []
    },
    {
      "cell_type": "markdown",
      "metadata": {
        "id": "rBzq3L-VBHvl"
      },
      "source": [
        "Creating Fake News Detector with Anvil"
      ]
    },
    {
      "cell_type": "code",
      "source": [
        "!pip install -Uqq fastai --upgrade\n",
        "!pip install -Uqq fastcore --upgrade\n",
        "!pip install -Uqq pandas==1.1.0\n",
        "!pip install -Uqq anvil-uplink"
      ],
      "metadata": {
        "id": "J_qSlX0mqtsd"
      },
      "execution_count": null,
      "outputs": []
    },
    {
      "cell_type": "code",
      "source": [
        "from fastai.text.all import load_learner\n",
        "import anvil.server"
      ],
      "metadata": {
        "id": "NBbvURLorJgV"
      },
      "execution_count": 56,
      "outputs": []
    },
    {
      "cell_type": "code",
      "source": [
        "anvil.server.connect(\"TKEAZQWDWYAZVEHF4EW3TN5F-XGIH7W2J3XZSQW46\")\n",
        "#TKEAZQWDWYAZVEHF4EW3TN5F-XGIH7W2J3XZSQW46 - with logo\n",
        "#N4LVVOIXMFFCGBWSORSS45XN-MVK3UE6YWHZTOI3C"
      ],
      "metadata": {
        "id": "g1dBikVQrRfE",
        "colab": {
          "base_uri": "https://localhost:8080/"
        },
        "outputId": "7fb24b11-568e-43ff-ec18-fbe373790d6b"
      },
      "execution_count": 57,
      "outputs": [
        {
          "output_type": "stream",
          "name": "stdout",
          "text": [
            "Connecting to wss://anvil.works/uplink\n",
            "Anvil websocket open\n",
            "Connected to \"Default environment\" as SERVER\n"
          ]
        }
      ]
    },
    {
      "cell_type": "code",
      "source": [
        "@anvil.server.callable\n",
        "def predict(input):\n",
        "  input = remove_punctuation_user(input)   #the different kinds of preprocessing steps also have to be applied to our user's input sentence - if not, the machine learning model will not understand the sentence and will not be able to categorize it into True or False\n",
        "  input = preprocess_user(input)\n",
        "  input = tokenize_user(input)\n",
        "  input = remove_stopwords_user(input)\n",
        "  input = lemmatize_user(input)\n",
        "  input = [input]\n",
        "  prediction = model.predict(input)\n",
        "  correct = \"The statement is correct\"\n",
        "  false = \"The statement is false\"\n",
        "  if prediction == 0:\n",
        "    preds = correct\n",
        "  else:\n",
        "    preds = false\n",
        "  return preds\n",
        "\n",
        "          #For demo:\n",
        "          #Correct statement #1: \"Telefonisch, per Mail, online oder ganz ohne Anmeldung – wo und wie Sie die Corona-Schutzimpfung erhalten können, unterscheidet sich je nach Bundesland und Region.\"\n",
        "          #Correct statement #2: \"mRNA-Impfstoffe schützen vor schweren Verläufen.\"\n",
        "          #Correct statement #3: \"Mögliche Nebenwirkungen nach einer Impfung sind Kopfschmerzen oder Schmerzen an der Einstichstelle.\"\n",
        "          #False statement #1: \"mRNA-Impfstoffe verändern die DNA im Körper der geimpften Person.\"\n",
        "          #False statement #2: \"Nach einer Impfung ist der Krankheitsverlauf schwerer als ohne Impfung.\"\n",
        "          #False statement #3: \"Coronaimpfungen verursachen eine Fehlgeburt.\""
      ],
      "metadata": {
        "id": "apZieRCXrqbl"
      },
      "execution_count": 58,
      "outputs": []
    },
    {
      "cell_type": "code",
      "source": [],
      "metadata": {
        "id": "wWiRMU0i_Hxv"
      },
      "execution_count": null,
      "outputs": []
    }
  ],
  "metadata": {
    "colab": {
      "collapsed_sections": [],
      "provenance": [],
      "include_colab_link": true
    },
    "kernelspec": {
      "display_name": "Python 3",
      "name": "python3"
    },
    "language_info": {
      "name": "python"
    }
  },
  "nbformat": 4,
  "nbformat_minor": 0
}